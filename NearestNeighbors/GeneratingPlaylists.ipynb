{
 "cells": [
  {
   "cell_type": "code",
   "execution_count": 1,
   "metadata": {
    "scrolled": false
   },
   "outputs": [
    {
     "name": "stdout",
     "output_type": "stream",
     "text": [
      "Indexing word vectors.\n",
      "Found 400000 word vectors.\n"
     ]
    }
   ],
   "source": [
    "from __future__ import print_function\n",
    "\n",
    "import os\n",
    "import sys\n",
    "import numpy as np\n",
    "import tensorflow as tf\n",
    "from tensorflow import keras\n",
    "import json\n",
    "import random\n",
    "\n",
    "with open('genremap.json', 'r') as f:\n",
    "    loaded_genres = json.loads(f.read())\n",
    "\n",
    "BASE_DIR_GLOVE = 'launchpad/Musecage/other/'\n",
    "GLOVE_DIR = os.path.join(BASE_DIR_GLOVE, 'glove.6B')\n",
    "\n",
    "print('Indexing word vectors.')\n",
    "\n",
    "embeddings_index = {}\n",
    "with open(os.path.join(GLOVE_DIR, 'glove.6B.300d.txt'),encoding='utf-8') as f:\n",
    "    for line in f:\n",
    "        word, coefs = line.split(maxsplit=1)\n",
    "        coefs = np.fromstring(coefs, 'f', sep=' ')\n",
    "        embeddings_index[word] = coefs\n",
    "\n",
    "print('Found %s word vectors.' % len(embeddings_index))"
   ]
  },
  {
   "cell_type": "code",
   "execution_count": 2,
   "metadata": {
    "scrolled": false
   },
   "outputs": [
    {
     "name": "stdout",
     "output_type": "stream",
     "text": [
      "Embedding vector size:  300\n"
     ]
    }
   ],
   "source": [
    "print('Embedding vector size: ',len(embeddings_index['the']))"
   ]
  },
  {
   "cell_type": "code",
   "execution_count": 3,
   "metadata": {},
   "outputs": [],
   "source": [
    "for key in loaded_genres:\n",
    "    key = key.lower()"
   ]
  },
  {
   "cell_type": "code",
   "execution_count": 4,
   "metadata": {},
   "outputs": [],
   "source": [
    "genre_array = [[key] for key in loaded_genres]\n",
    "genre_index = np.array([i for i in range(len(genre_array))])\n",
    "\n",
    "def keep_genre(genre_array):\n",
    "    \"\"\"A function that takes in an array of different genres and returns an array of genre embeddings. \n",
    "    If a word isn't found within Glove, that word is simply taken out of the genre embedding. \n",
    "    \"\"\"\n",
    "    genre_embeddings=[]\n",
    "    for i in range(len(genre_array)): #For each genre\n",
    "        genre_embedding=np.zeros((300))\n",
    "        genre = genre_array[i][0]\n",
    "        for word in genre.split(): #For each word in each genre\n",
    "            try: #If the word embedding is found\n",
    "                word_embedding = embeddings_index[word]\n",
    "                genre_embedding = [a+b for a,b in zip(genre_embedding, word_embedding)] #Sum the word embeddings\n",
    "            except:\n",
    "                continue\n",
    "        genre_embeddings.append(genre_embedding)\n",
    "    return genre_embeddings"
   ]
  },
  {
   "cell_type": "code",
   "execution_count": 5,
   "metadata": {},
   "outputs": [
    {
     "data": {
      "text/plain": [
       "(276, 300)"
      ]
     },
     "execution_count": 5,
     "metadata": {},
     "output_type": "execute_result"
    }
   ],
   "source": [
    "genre_embeddings=np.array(keep_genre(genre_array))\n",
    "genre_embeddings.shape"
   ]
  },
  {
   "cell_type": "code",
   "execution_count": 6,
   "metadata": {
    "scrolled": true
   },
   "outputs": [
    {
     "data": {
      "text/plain": [
       "KNeighborsClassifier(algorithm='auto', leaf_size=30, metric='minkowski',\n",
       "                     metric_params=None, n_jobs=None, n_neighbors=3, p=2,\n",
       "                     weights='uniform')"
      ]
     },
     "execution_count": 6,
     "metadata": {},
     "output_type": "execute_result"
    }
   ],
   "source": [
    "from sklearn.neighbors import KNeighborsClassifier\n",
    "knn_genres = KNeighborsClassifier(n_neighbors=3)\n",
    "knn_genres.fit(genre_embeddings, genre_index)"
   ]
  },
  {
   "cell_type": "code",
   "execution_count": 37,
   "metadata": {
    "scrolled": false
   },
   "outputs": [
    {
     "name": "stdout",
     "output_type": "stream",
     "text": [
      "['USAT21702748', 'GBCTA0700277', 'GBAHS1400160', 'USAT21702748', 'USS9T1900010', 'NOG841617010', 'USS9T1900010', 'USVT10300001', 'USSR39300201', 'GBAHS1400160', 'USAT21702748', 'USUM71024160', 'USRC10800301', 'CA5KR1821202', 'USAT21502771', 'USVT10300001', 'USSR39320004', 'USS9T1900010', 'USS9T1900010', 'USDM31679801']\n"
     ]
    }
   ],
   "source": [
    "def create_playlist(title, num_songs):\n",
    "    playlist = []\n",
    "    title_embedding = np.array(keep_genre([[title]]))\n",
    "    closest_genres = knn_genres.kneighbors(title_embedding)\n",
    "    #print(closest_genres)\n",
    "    #for i in range(3):\n",
    "    #    print(genre_array[closest_genres[1][0][i]][0])\n",
    "    distances, neighbors = closest_genres[0][0], closest_genres[1][0]\n",
    "    for song in loaded_genres[genre_array[neighbors[0]][0]]:\n",
    "        if len(playlist) < num_songs and song in loaded_genres[genre_array[neighbors[1]][0]] and loaded_genres[genre_array[neighbors[2]][0]]:\n",
    "            playlist.append(song)\n",
    "    while len(playlist) < num_songs:\n",
    "        sum_dist = distances[0] + distances[1] + distances[2]\n",
    "        p1, p2, p3 = int(100 - (distances[0] * 100 / sum_dist)), int(100 - (distances[1] * 100 / sum_dist)), int(100 - (distances[2] * 100 / sum_dist))\n",
    "        my_list = [genre_array[neighbors[0]][0]] * p1 + [genre_array[neighbors[1]][0]] * p2 + [genre_array[neighbors[2]][0]] * p3\n",
    "        rand_genre = random.choice(my_list)\n",
    "        rand_song = loaded_genres[rand_genre][random.randint(0, len(loaded_genres[rand_genre])-1)]\n",
    "        playlist.append(rand_song)\n",
    "    return playlist\n",
    "print(create_playlist('dance', 20))"
   ]
  },
  {
   "cell_type": "code",
   "execution_count": null,
   "metadata": {},
   "outputs": [],
   "source": []
  }
 ],
 "metadata": {
  "kernelspec": {
   "display_name": "Python 3",
   "language": "python",
   "name": "python3"
  },
  "language_info": {
   "codemirror_mode": {
    "name": "ipython",
    "version": 3
   },
   "file_extension": ".py",
   "mimetype": "text/x-python",
   "name": "python",
   "nbconvert_exporter": "python",
   "pygments_lexer": "ipython3",
   "version": "3.7.3"
  }
 },
 "nbformat": 4,
 "nbformat_minor": 2
}
