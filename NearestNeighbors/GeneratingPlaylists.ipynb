{
 "cells": [
  {
   "cell_type": "code",
   "execution_count": 1,
   "metadata": {
    "scrolled": false
   },
   "outputs": [
    {
     "name": "stdout",
     "output_type": "stream",
     "text": [
      "Indexing word vectors.\n",
      "Found 400000 word vectors.\n"
     ]
    }
   ],
   "source": [
    "from __future__ import print_function\n",
    "\n",
    "import os\n",
    "import sys\n",
    "import numpy as np\n",
    "import tensorflow as tf\n",
    "from tensorflow import keras\n",
    "import json\n",
    "\n",
    "with open('genremap.json', 'r') as f:\n",
    "    loaded_genres = json.loads(f.read())\n",
    "\n",
    "BASE_DIR_GLOVE = 'launchpad/Musecage/other/'\n",
    "GLOVE_DIR = os.path.join(BASE_DIR_GLOVE, 'glove.6B')\n",
    "\n",
    "print('Indexing word vectors.')\n",
    "\n",
    "embeddings_index = {}\n",
    "with open(os.path.join(GLOVE_DIR, 'glove.6B.300d.txt'),encoding='utf-8') as f:\n",
    "    for line in f:\n",
    "        word, coefs = line.split(maxsplit=1)\n",
    "        coefs = np.fromstring(coefs, 'f', sep=' ')\n",
    "        embeddings_index[word] = coefs\n",
    "\n",
    "print('Found %s word vectors.' % len(embeddings_index))"
   ]
  },
  {
   "cell_type": "code",
   "execution_count": 2,
   "metadata": {
    "scrolled": true
   },
   "outputs": [
    {
     "name": "stdout",
     "output_type": "stream",
     "text": [
      "Embedding vector size:  300\n"
     ]
    }
   ],
   "source": [
    "print('Embedding vector size: ',len(embeddings_index['the']))"
   ]
  },
  {
   "cell_type": "code",
   "execution_count": 3,
   "metadata": {},
   "outputs": [],
   "source": [
    "genre_array = [[key.lower()] for key in loaded_genres]\n",
    "genre_index = np.array([i for i in range(len(genre_array))])\n",
    "\n",
    "def keep_genre(genre_array):\n",
    "    \"\"\"A function that takes in an array of different genres and returns an array of genre embeddings. \n",
    "    If a word isn't found within Glove, that word is simply taken out of the genre embedding. \n",
    "    \"\"\"\n",
    "    genre_embeddings=[]\n",
    "    for i in range(len(genre_array)): #For each genre\n",
    "        genre_embedding=np.zeros((300))\n",
    "        genre = genre_array[i][0]\n",
    "        for word in genre.split(): #For each word in each genre\n",
    "            try: #If the word embedding is found\n",
    "                word_embedding = embeddings_index[word]\n",
    "                genre_embedding = [a+b for a,b in zip(genre_embedding, word_embedding)] #Sum the word embeddings\n",
    "            except:\n",
    "                continue\n",
    "        genre_embeddings.append(genre_embedding)\n",
    "    return genre_embeddings"
   ]
  },
  {
   "cell_type": "code",
   "execution_count": 4,
   "metadata": {},
   "outputs": [
    {
     "data": {
      "text/plain": [
       "(124, 300)"
      ]
     },
     "execution_count": 4,
     "metadata": {},
     "output_type": "execute_result"
    }
   ],
   "source": [
    "genre_embeddings=np.array(keep_genre(genre_array))\n",
    "genre_embeddings.shape"
   ]
  },
  {
   "cell_type": "code",
   "execution_count": 5,
   "metadata": {},
   "outputs": [
    {
     "data": {
      "text/plain": [
       "KNeighborsClassifier(algorithm='auto', leaf_size=30, metric='minkowski',\n",
       "                     metric_params=None, n_jobs=None, n_neighbors=3, p=2,\n",
       "                     weights='uniform')"
      ]
     },
     "execution_count": 5,
     "metadata": {},
     "output_type": "execute_result"
    }
   ],
   "source": [
    "from sklearn.neighbors import KNeighborsClassifier\n",
    "knn_genres = KNeighborsClassifier(n_neighbors=3)\n",
    "knn_genres.fit(genre_embeddings, genre_index)"
   ]
  },
  {
   "cell_type": "code",
   "execution_count": 25,
   "metadata": {
    "scrolled": false
   },
   "outputs": [
    {
     "name": "stdout",
     "output_type": "stream",
     "text": [
      "(array([[6.70472543, 6.73302524, 6.86090552]]), array([[ 40,   3, 103]]))\n"
     ]
    }
   ],
   "source": [
    "test_genre = \"dance\"\n",
    "test_embedding = np.array(keep_genre([[test_genre]]))\n",
    "closest_genres = knn_genres.kneighbors(test_embedding)\n",
    "print(closest_genres) #Here the closest questions are questions with index 0, 1, 2"
   ]
  },
  {
   "cell_type": "code",
   "execution_count": 26,
   "metadata": {
    "scrolled": true
   },
   "outputs": [
    {
     "name": "stdout",
     "output_type": "stream",
     "text": [
      "['alt dance']\n",
      "['dance pop']\n",
      "['disco']\n"
     ]
    }
   ],
   "source": [
    "for i in range(3):\n",
    "    print(genre_array[closest_genres[1][0][i]])"
   ]
  },
  {
   "cell_type": "code",
   "execution_count": null,
   "metadata": {},
   "outputs": [],
   "source": []
  }
 ],
 "metadata": {
  "kernelspec": {
   "display_name": "Python 3",
   "language": "python",
   "name": "python3"
  },
  "language_info": {
   "codemirror_mode": {
    "name": "ipython",
    "version": 3
   },
   "file_extension": ".py",
   "mimetype": "text/x-python",
   "name": "python",
   "nbconvert_exporter": "python",
   "pygments_lexer": "ipython3",
   "version": "3.7.3"
  }
 },
 "nbformat": 4,
 "nbformat_minor": 2
}
