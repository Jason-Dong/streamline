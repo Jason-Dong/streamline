{
 "cells": [
  {
   "cell_type": "code",
   "execution_count": 19,
   "metadata": {},
   "outputs": [],
   "source": [
    "import json\n",
    "import numpy as np \n",
    "\n",
    "#convert spotify_id to a string\n",
    "json_data = '{\"spotify_id_1\": {\"name\": \"Pure Water\", \"artist\": \"Migos\", \"acousticness\": 0.7}, \"spotify_id_2\": {\"name\": \"Cold Water\", \"artist\": \"Justin Bieber\", \"acousticness\": 0.9}}'"
   ]
  },
  {
   "cell_type": "code",
   "execution_count": 20,
   "metadata": {},
   "outputs": [
    {
     "name": "stdout",
     "output_type": "stream",
     "text": [
      "{\n",
      "    \"spotify_id_1\": {\n",
      "        \"acousticness\": 0.7,\n",
      "        \"artist\": \"Migos\",\n",
      "        \"name\": \"Pure Water\"\n",
      "    },\n",
      "    \"spotify_id_2\": {\n",
      "        \"acousticness\": 0.9,\n",
      "        \"artist\": \"Justin Bieber\",\n",
      "        \"name\": \"Cold Water\"\n",
      "    }\n",
      "}\n"
     ]
    }
   ],
   "source": [
    "#with open(\"spotifysongs.json\", \"r\") as f:\n",
    "parsed_json = (json.loads(json_data))\n",
    "#print(json.dumps(parsed_json, indent=4, sort_keys=True))"
   ]
  },
  {
   "cell_type": "code",
   "execution_count": 52,
   "metadata": {},
   "outputs": [],
   "source": [
    "def generateArrays(json_data):\n",
    "    loaded_json = json.loads(json_data)\n",
    "    finalArray = []\n",
    "    for key in loaded_json:\n",
    "        #print(\"key:\", key)\n",
    "        ar = []\n",
    "        ar.append(key)\n",
    "        for smallkey in loaded_json[key]:\n",
    "            #print(\"smallkey:\", smallkey)\n",
    "            ar.append(loaded_json[key][smallkey])\n",
    "        #print(\"ar: \", ar)\n",
    "        finalArray.append(ar)\n",
    "    #print(finalArray)\n",
    "    return finalArray"
   ]
  },
  {
   "cell_type": "code",
   "execution_count": 53,
   "metadata": {},
   "outputs": [
    {
     "data": {
      "text/plain": [
       "[['spotify_id_1', 'Pure Water', 'Migos', 0.7],\n",
       " ['spotify_id_2', 'Cold Water', 'Justin Bieber', 0.9]]"
      ]
     },
     "execution_count": 53,
     "metadata": {},
     "output_type": "execute_result"
    }
   ],
   "source": [
    "generateArrays(json_data)"
   ]
  },
  {
   "cell_type": "code",
   "execution_count": null,
   "metadata": {},
   "outputs": [],
   "source": []
  }
 ],
 "metadata": {
  "kernelspec": {
   "display_name": "Python 3",
   "language": "python",
   "name": "python3"
  },
  "language_info": {
   "codemirror_mode": {
    "name": "ipython",
    "version": 3
   },
   "file_extension": ".py",
   "mimetype": "text/x-python",
   "name": "python",
   "nbconvert_exporter": "python",
   "pygments_lexer": "ipython3",
   "version": "3.7.3"
  }
 },
 "nbformat": 4,
 "nbformat_minor": 2
}
