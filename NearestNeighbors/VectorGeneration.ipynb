{
 "cells": [
  {
   "cell_type": "code",
   "execution_count": 54,
   "metadata": {},
   "outputs": [],
   "source": [
    "import json\n",
    "import numpy as np \n",
    "\n",
    "#convert spotify_id to a string\n",
    "json_data = '{\"spotify_id_1\": {\"name\": \"Pure Water\", \"artist\": \"Migos\", \"acousticness\": 0.7, \"volume\": 0.2}, \"spotify_id_2\": {\"name\": \"Cold Water\", \"artist\": \"Justin Bieber\", \"acousticness\": 0.9, \"volume\": 1.6}}'"
   ]
  },
  {
   "cell_type": "code",
   "execution_count": 57,
   "metadata": {},
   "outputs": [
    {
     "name": "stdout",
     "output_type": "stream",
     "text": [
      "{\n",
      "    \"spotify_id_1\": {\n",
      "        \"acousticness\": 0.7,\n",
      "        \"artist\": \"Migos\",\n",
      "        \"name\": \"Pure Water\",\n",
      "        \"volume\": 0.2\n",
      "    },\n",
      "    \"spotify_id_2\": {\n",
      "        \"acousticness\": 0.9,\n",
      "        \"artist\": \"Justin Bieber\",\n",
      "        \"name\": \"Cold Water\",\n",
      "        \"volume\": 1.6\n",
      "    }\n",
      "}\n"
     ]
    }
   ],
   "source": [
    "#with open(\"spotifysongs.json\", \"r\") as f:\n",
    "parsed_json = (json.loads(json_data))\n",
    "print(json.dumps(parsed_json, indent=4, sort_keys=True))"
   ]
  },
  {
   "cell_type": "code",
   "execution_count": 62,
   "metadata": {},
   "outputs": [],
   "source": [
    "def generateArrays(json_data):\n",
    "    loaded_json = json.loads(json_data)\n",
    "    finalArray = []\n",
    "    nameOfNums = []\n",
    "    for key in loaded_json:\n",
    "        #print(\"key:\", key)\n",
    "        ar = []\n",
    "        ar.append(key)\n",
    "        for smallkey in loaded_json[key]:\n",
    "            #print(\"smallkey:\", smallkey)\n",
    "            value = loaded_json[key][smallkey]\n",
    "            if type(value) is float:\n",
    "                ar.append(value)\n",
    "                nameOfNums.append(smallkey)\n",
    "        #print(\"ar: \", ar)\n",
    "        finalArray.append(ar)\n",
    "    #print(finalArray)\n",
    "    return finalArray, nameOfNums"
   ]
  },
  {
   "cell_type": "code",
   "execution_count": 95,
   "metadata": {},
   "outputs": [],
   "source": [
    "def normalize(array):\n",
    "    for x in range(len(array[0])):\n",
    "        #ar = [max(subArray[x]) for subArray in array if type(subArray[x]) is float]\n",
    "        ar = []\n",
    "        for subArray in array:\n",
    "            #print(\"subArray: \", subArray[x])\n",
    "            if type(subArray[x]) is float:\n",
    "                #print(\"subArray: \", subArray[x])\n",
    "                ar.append(subArray[x])\n",
    "        #print(\"ar: \", ar)\n",
    "        if ar:\n",
    "            largestVal = max(ar)\n",
    "            for subArray in array:\n",
    "                if type(subArray[x]) is float:\n",
    "                    subArray[x] /= largestVal"
   ]
  },
  {
   "cell_type": "code",
   "execution_count": 96,
   "metadata": {},
   "outputs": [
    {
     "data": {
      "text/plain": [
       "([['spotify_id_1', 0.7, 0.2], ['spotify_id_2', 0.9, 1.6]],\n",
       " ['acousticness', 'volume', 'acousticness', 'volume'])"
      ]
     },
     "execution_count": 96,
     "metadata": {},
     "output_type": "execute_result"
    }
   ],
   "source": [
    "generateArrays(json_data)"
   ]
  },
  {
   "cell_type": "code",
   "execution_count": 98,
   "metadata": {},
   "outputs": [],
   "source": [
    "normalize(finalArray)"
   ]
  },
  {
   "cell_type": "code",
   "execution_count": 99,
   "metadata": {},
   "outputs": [
    {
     "data": {
      "text/plain": [
       "[['spotify_id_1', 'Pure Water', 'Migos', 0.7777777777777777],\n",
       " ['spotify_id_2', 'Cold Water', 'Justin Bieber', 1.0]]"
      ]
     },
     "execution_count": 99,
     "metadata": {},
     "output_type": "execute_result"
    }
   ],
   "source": [
    "finalArray"
   ]
  },
  {
   "cell_type": "code",
   "execution_count": null,
   "metadata": {},
   "outputs": [],
   "source": []
  }
 ],
 "metadata": {
  "kernelspec": {
   "display_name": "Python 3",
   "language": "python",
   "name": "python3"
  },
  "language_info": {
   "codemirror_mode": {
    "name": "ipython",
    "version": 3
   },
   "file_extension": ".py",
   "mimetype": "text/x-python",
   "name": "python",
   "nbconvert_exporter": "python",
   "pygments_lexer": "ipython3",
   "version": "3.7.3"
  }
 },
 "nbformat": 4,
 "nbformat_minor": 2
}
