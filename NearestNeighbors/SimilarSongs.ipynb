{
 "cells": [
  {
   "cell_type": "code",
   "execution_count": 1,
   "metadata": {},
   "outputs": [],
   "source": [
    "import numpy as np\n",
    "from scipy.spatial import distance"
   ]
  },
  {
   "cell_type": "code",
   "execution_count": 15,
   "metadata": {},
   "outputs": [
    {
     "data": {
      "text/plain": [
       "['3', '4']"
      ]
     },
     "execution_count": 15,
     "metadata": {},
     "output_type": "execute_result"
    }
   ],
   "source": [
    "#array implementation\n",
    "arr1 = ['1', 5, 5, 5, 5]\n",
    "arr2 = ['2', 1, 2, 2, 2]\n",
    "arr3 = ['3', 1, 1, 1, 1]\n",
    "arr4 = ['4', 1, 1.5, 1.5, 1.5]\n",
    "\n",
    "list = [arr1, arr2, arr3, arr4]\n",
    "\n",
    "def average_song(song_list):\n",
    "    average_song = [0 for _ in range(len(song_list[0]) - 1)]\n",
    "    for song in song_list:\n",
    "        for i in range(len(average_song)):\n",
    "            average_song[i] += song[i + 1]\n",
    "    for i in range(len(average_song)):\n",
    "        average_song[i] /= len(song_list)\n",
    "    \n",
    "    return average_song\n",
    "\n",
    "def similar_songs(song_list, avg_song, num):\n",
    "    song_similarity_list = []\n",
    "    similar_songs = []\n",
    "    for i in range(len(song_list)):\n",
    "        song_similarity_list.append([distance.euclidean(avg_song, song_list[i][1:]), i])\n",
    "    song_similarity_list.sort(key = lambda song_pair: song_pair[0])\n",
    "    for song_pair in song_similarity_list[:num]:\n",
    "        similar_songs.append(song_list[song_pair[1]][0])\n",
    "    return similar_songs\n",
    "\n",
    "similar_songs(list, [1, 1, 1, 1], 2)"
   ]
  }
 ],
 "metadata": {
  "kernelspec": {
   "display_name": "Python 3",
   "language": "python",
   "name": "python3"
  },
  "language_info": {
   "codemirror_mode": {
    "name": "ipython",
    "version": 3
   },
   "file_extension": ".py",
   "mimetype": "text/x-python",
   "name": "python",
   "nbconvert_exporter": "python",
   "pygments_lexer": "ipython3",
   "version": "3.7.3"
  }
 },
 "nbformat": 4,
 "nbformat_minor": 2
}
